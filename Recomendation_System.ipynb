{
  "nbformat": 4,
  "nbformat_minor": 0,
  "metadata": {
    "kernelspec": {
      "display_name": "Python 3",
      "language": "python",
      "name": "python3"
    },
    "language_info": {
      "codemirror_mode": {
        "name": "ipython",
        "version": 3
      },
      "file_extension": ".py",
      "mimetype": "text/x-python",
      "name": "python",
      "nbconvert_exporter": "python",
      "pygments_lexer": "ipython3",
      "version": "3.7.4"
    },
    "colab": {
      "name": "Recomendation_System.ipynb",
      "provenance": [],
      "include_colab_link": true
    },
    "accelerator": "GPU"
  },
  "cells": [
    {
      "cell_type": "markdown",
      "metadata": {
        "id": "view-in-github",
        "colab_type": "text"
      },
      "source": [
        "<a href=\"https://colab.research.google.com/github/gtoge/Recommendation_System/blob/master/Recomendation_System.ipynb\" target=\"_parent\"><img src=\"https://colab.research.google.com/assets/colab-badge.svg\" alt=\"Open In Colab\"/></a>"
      ]
    },
    {
      "cell_type": "markdown",
      "metadata": {
        "id": "XBwxsPqXcgpZ",
        "colab_type": "text"
      },
      "source": [
        "# RECOMMENDATION SYSTEM\n",
        "- we will build a RS using Spark's MLlib library.\n",
        "- We will predict the rating of an item from any given user.\n",
        "- We will use a collaborative filtering based recommender\n",
        "\n"
      ]
    },
    {
      "cell_type": "markdown",
      "metadata": {
        "id": "S8KCX8DFcgpa",
        "colab_type": "text"
      },
      "source": [
        "## Creating a Colab environment\n",
        "- We will beusing google colab for pyspark.\n",
        "- We need to install the following dependencies:\n",
        "- Apache Spark \n",
        "- hadoop \n",
        "- java \n",
        "- Findspark\n"
      ]
    },
    {
      "cell_type": "markdown",
      "metadata": {
        "id": "6jYTHiCZcgpa",
        "colab_type": "text"
      },
      "source": [
        "### Apache Spark and Hadoop\n",
        "- Installing current version"
      ]
    },
    {
      "cell_type": "code",
      "metadata": {
        "id": "AieybItmcgpb",
        "colab_type": "code",
        "colab": {}
      },
      "source": [
        "!apt-get install openjdk-8-jdk-headless -qq > /dev/null\n",
        "!wget -q https://www-us.apache.org/dist/spark/spark-2.4.5/spark-2.4.5-bin-hadoop2.7.tgz\n",
        "!tar xf spark-2.4.5-bin-hadoop2.7.tgz\n",
        "!pip install -q findspark"
      ],
      "execution_count": 0,
      "outputs": []
    },
    {
      "cell_type": "markdown",
      "metadata": {
        "id": "Kqmpr36hcgpe",
        "colab_type": "text"
      },
      "source": [
        "### Setting Up the Environment Path"
      ]
    },
    {
      "cell_type": "code",
      "metadata": {
        "id": "hX3InRpacgpf",
        "colab_type": "code",
        "colab": {}
      },
      "source": [
        "import os\n",
        "os.environ[\"JAVA_HOME\"] = \"/usr/lib/jvm/java-8-openjdk-amd64\"\n",
        "os.environ[\"SPARK_HOME\"] = \"/content/spark-2.4.5-bin-hadoop2.7\""
      ],
      "execution_count": 0,
      "outputs": []
    },
    {
      "cell_type": "markdown",
      "metadata": {
        "id": "I2tlUAYYcgpi",
        "colab_type": "text"
      },
      "source": [
        "### Testing Installation\n",
        "- we will use a local spark session"
      ]
    },
    {
      "cell_type": "code",
      "metadata": {
        "id": "ZQlx0OGocgpj",
        "colab_type": "code",
        "colab": {}
      },
      "source": [
        "import findspark\n",
        "findspark.init()\n",
        "from pyspark.sql import SparkSession\n",
        "spark = SparkSession.builder.master(\"local[*]\").getOrCreate()"
      ],
      "execution_count": 0,
      "outputs": []
    },
    {
      "cell_type": "markdown",
      "metadata": {
        "id": "sOCPN8ZEcgpl",
        "colab_type": "text"
      },
      "source": [
        "### Uploading Google Drive"
      ]
    },
    {
      "cell_type": "code",
      "metadata": {
        "id": "CWJ0Cj0ycgpm",
        "colab_type": "code",
        "outputId": "8b61025d-a96f-48d9-8f33-4cc86da97bb3",
        "colab": {
          "base_uri": "https://localhost:8080/",
          "height": 122
        }
      },
      "source": [
        "#Mounting My Google Drive \n",
        "from google.colab import drive\n",
        "drive.mount('/content/gdrive')\n"
      ],
      "execution_count": 0,
      "outputs": [
        {
          "output_type": "stream",
          "text": [
            "Go to this URL in a browser: https://accounts.google.com/o/oauth2/auth?client_id=947318989803-6bn6qk8qdgf4n4g3pfee6491hc0brc4i.apps.googleusercontent.com&redirect_uri=urn%3aietf%3awg%3aoauth%3a2.0%3aoob&response_type=code&scope=email%20https%3a%2f%2fwww.googleapis.com%2fauth%2fdocs.test%20https%3a%2f%2fwww.googleapis.com%2fauth%2fdrive%20https%3a%2f%2fwww.googleapis.com%2fauth%2fdrive.photos.readonly%20https%3a%2f%2fwww.googleapis.com%2fauth%2fpeopleapi.readonly\n",
            "\n",
            "Enter your authorization code:\n",
            "··········\n",
            "Mounted at /content/gdrive\n"
          ],
          "name": "stdout"
        }
      ]
    },
    {
      "cell_type": "code",
      "metadata": {
        "id": "SaTqzJqSKA0a",
        "colab_type": "code",
        "outputId": "7f406cea-716c-4c27-d605-50b83af5e51a",
        "colab": {
          "base_uri": "https://localhost:8080/",
          "height": 34
        }
      },
      "source": [
        "# Change to my working directory\n",
        "%cd /content/gdrive/My Drive/Recomendation_System"
      ],
      "execution_count": 0,
      "outputs": [
        {
          "output_type": "stream",
          "text": [
            "/content/gdrive/My Drive/Recomendation_System\n"
          ],
          "name": "stdout"
        }
      ]
    },
    {
      "cell_type": "code",
      "metadata": {
        "id": "AWYItKPMtJdL",
        "colab_type": "code",
        "outputId": "6c680d61-426c-4d58-d893-b03aba97f002",
        "colab": {
          "base_uri": "https://localhost:8080/",
          "height": 34
        }
      },
      "source": [
        "pwd"
      ],
      "execution_count": 0,
      "outputs": [
        {
          "output_type": "execute_result",
          "data": {
            "text/plain": [
              "'/content/gdrive/My Drive/Recomendation_System'"
            ]
          },
          "metadata": {
            "tags": []
          },
          "execution_count": 10
        }
      ]
    },
    {
      "cell_type": "markdown",
      "metadata": {
        "id": "AwLN__G2cgpr",
        "colab_type": "text"
      },
      "source": [
        "### Creating a SparkSession Object"
      ]
    },
    {
      "cell_type": "code",
      "metadata": {
        "id": "hVI2m05Gcgps",
        "colab_type": "code",
        "colab": {}
      },
      "source": [
        "#import and create sparksession object\n",
        "from pyspark.sql import SparkSession \n",
        "spark=SparkSession.builder.appName('rc').getOrCreate()"
      ],
      "execution_count": 0,
      "outputs": []
    },
    {
      "cell_type": "markdown",
      "metadata": {
        "id": "wmJhEH5Ocgpv",
        "colab_type": "text"
      },
      "source": [
        "### Reading the dataset"
      ]
    },
    {
      "cell_type": "code",
      "metadata": {
        "id": "Idhw8dvCcgpw",
        "colab_type": "code",
        "colab": {}
      },
      "source": [
        "#import the required functions and libraries\n",
        "from pyspark.sql.functions import *\n",
        "#load the dataset and create sprk dataframe\n",
        "df=spark.read.csv('/content/gdrive/My Drive/Recomendation_System/movie_ratings_df.csv',inferSchema=True,header=True)"
      ],
      "execution_count": 0,
      "outputs": []
    },
    {
      "cell_type": "markdown",
      "metadata": {
        "id": "oPfEuPJbcgpz",
        "colab_type": "text"
      },
      "source": [
        "## Exploratory Data Analysis"
      ]
    },
    {
      "cell_type": "code",
      "metadata": {
        "id": "RpyrE5N0cgp0",
        "colab_type": "code",
        "outputId": "5efd6574-5728-4d58-f1f3-ea65fe3ae24c",
        "colab": {
          "base_uri": "https://localhost:8080/",
          "height": 34
        }
      },
      "source": [
        "#Getting the shape of the data \n",
        "print((df.count(),len(df.columns)))"
      ],
      "execution_count": 0,
      "outputs": [
        {
          "output_type": "stream",
          "text": [
            "(100000, 3)\n"
          ],
          "name": "stdout"
        }
      ]
    },
    {
      "cell_type": "code",
      "metadata": {
        "id": "XfQ8kITucgp3",
        "colab_type": "code",
        "outputId": "ab895b1f-0cb1-41f1-fd21-b1eb5b5c2e45",
        "colab": {
          "base_uri": "https://localhost:8080/",
          "height": 102
        }
      },
      "source": [
        "#display columns and columns type in dataframe\n",
        "df.printSchema()"
      ],
      "execution_count": 0,
      "outputs": [
        {
          "output_type": "stream",
          "text": [
            "root\n",
            " |-- userId: integer (nullable = true)\n",
            " |-- title: string (nullable = true)\n",
            " |-- rating: integer (nullable = true)\n",
            "\n"
          ],
          "name": "stdout"
        }
      ]
    },
    {
      "cell_type": "code",
      "metadata": {
        "id": "FglZDNPMcgp6",
        "colab_type": "code",
        "outputId": "ad5fbb34-b106-4c70-f2cb-b9a5a3b7f4fa",
        "colab": {
          "base_uri": "https://localhost:8080/",
          "height": 289
        }
      },
      "source": [
        "#display few rows of the dataframe randomly\n",
        "df.orderBy(rand()).show(10,False)"
      ],
      "execution_count": 0,
      "outputs": [
        {
          "output_type": "stream",
          "text": [
            "+------+-------------------------------------+------+\n",
            "|userId|title                                |rating|\n",
            "+------+-------------------------------------+------+\n",
            "|268   |Bob Roberts (1992)                   |4     |\n",
            "|454   |Real Genius (1985)                   |2     |\n",
            "|474   |City Hall (1996)                     |3     |\n",
            "|798   |Wizard of Oz, The (1939)             |4     |\n",
            "|276   |Young Poisoner's Handbook, The (1995)|4     |\n",
            "|25    |Nell (1994)                          |4     |\n",
            "|87    |Heat (1995)                          |3     |\n",
            "|178   |Highlander (1986)                    |4     |\n",
            "|881   |Graduate, The (1967)                 |3     |\n",
            "|336   |Beautiful Girls (1996)               |5     |\n",
            "+------+-------------------------------------+------+\n",
            "only showing top 10 rows\n",
            "\n"
          ],
          "name": "stdout"
        }
      ]
    },
    {
      "cell_type": "code",
      "metadata": {
        "id": "mH8TsHPOcgp9",
        "colab_type": "code",
        "outputId": "7410b39e-e204-4f6b-c9bc-84a72a4af1d6",
        "colab": {
          "base_uri": "https://localhost:8080/",
          "height": 289
        }
      },
      "source": [
        "# number of ratings by each user\n",
        "df.groupBy('userId').count().orderBy('count',ascending=False).show(10,False)"
      ],
      "execution_count": 0,
      "outputs": [
        {
          "output_type": "stream",
          "text": [
            "+------+-----+\n",
            "|userId|count|\n",
            "+------+-----+\n",
            "|405   |737  |\n",
            "|655   |685  |\n",
            "|13    |636  |\n",
            "|450   |540  |\n",
            "|276   |518  |\n",
            "|416   |493  |\n",
            "|537   |490  |\n",
            "|303   |484  |\n",
            "|234   |480  |\n",
            "|393   |448  |\n",
            "+------+-----+\n",
            "only showing top 10 rows\n",
            "\n"
          ],
          "name": "stdout"
        }
      ]
    },
    {
      "cell_type": "code",
      "metadata": {
        "id": "L-gfgu3Bcgp_",
        "colab_type": "code",
        "outputId": "575c5321-3498-4043-a928-b50f0784cbe1",
        "colab": {
          "base_uri": "https://localhost:8080/",
          "height": 289
        }
      },
      "source": [
        "#number of ratings by each user\n",
        "df.groupBy('userId').count().orderBy('count',ascending=True).show(10,False)"
      ],
      "execution_count": 0,
      "outputs": [
        {
          "output_type": "stream",
          "text": [
            "+------+-----+\n",
            "|userId|count|\n",
            "+------+-----+\n",
            "|732   |20   |\n",
            "|636   |20   |\n",
            "|572   |20   |\n",
            "|93    |20   |\n",
            "|631   |20   |\n",
            "|596   |20   |\n",
            "|300   |20   |\n",
            "|926   |20   |\n",
            "|685   |20   |\n",
            "|34    |20   |\n",
            "+------+-----+\n",
            "only showing top 10 rows\n",
            "\n"
          ],
          "name": "stdout"
        }
      ]
    },
    {
      "cell_type": "code",
      "metadata": {
        "id": "j7jB_cwDcgqB",
        "colab_type": "code",
        "outputId": "dac9c939-1b30-425e-80ae-fed60fe9783b",
        "colab": {
          "base_uri": "https://localhost:8080/",
          "height": 289
        }
      },
      "source": [
        "#number of times a movie has been rated \n",
        "df.groupBy('title').count().orderBy('count',ascending=False).show(10,False)"
      ],
      "execution_count": 0,
      "outputs": [
        {
          "output_type": "stream",
          "text": [
            "+-----------------------------+-----+\n",
            "|title                        |count|\n",
            "+-----------------------------+-----+\n",
            "|Star Wars (1977)             |583  |\n",
            "|Contact (1997)               |509  |\n",
            "|Fargo (1996)                 |508  |\n",
            "|Return of the Jedi (1983)    |507  |\n",
            "|Liar Liar (1997)             |485  |\n",
            "|English Patient, The (1996)  |481  |\n",
            "|Scream (1996)                |478  |\n",
            "|Toy Story (1995)             |452  |\n",
            "|Air Force One (1997)         |431  |\n",
            "|Independence Day (ID4) (1996)|429  |\n",
            "+-----------------------------+-----+\n",
            "only showing top 10 rows\n",
            "\n"
          ],
          "name": "stdout"
        }
      ]
    },
    {
      "cell_type": "code",
      "metadata": {
        "id": "iwLinPoacgqD",
        "colab_type": "code",
        "outputId": "65bea603-a4bd-435d-bcd2-77f485fdf0f7",
        "colab": {
          "base_uri": "https://localhost:8080/",
          "height": 289
        }
      },
      "source": [
        "df.groupBy('title').count().orderBy('count',ascending=True).show(10,False)"
      ],
      "execution_count": 0,
      "outputs": [
        {
          "output_type": "stream",
          "text": [
            "+-----------------------------------------+-----+\n",
            "|title                                    |count|\n",
            "+-----------------------------------------+-----+\n",
            "|Aiqing wansui (1994)                     |1    |\n",
            "|Next Step, The (1995)                    |1    |\n",
            "|Leopard Son, The (1996)                  |1    |\n",
            "|Fear, The (1995)                         |1    |\n",
            "|Mad Dog Time (1996)                      |1    |\n",
            "|Target (1995)                            |1    |\n",
            "|Lashou shentan (1992)                    |1    |\n",
            "|Vie est belle, La (Life is Rosey) (1987) |1    |\n",
            "|Modern Affair, A (1995)                  |1    |\n",
            "|JLG/JLG - autoportrait de d�cembre (1994)|1    |\n",
            "+-----------------------------------------+-----+\n",
            "only showing top 10 rows\n",
            "\n"
          ],
          "name": "stdout"
        }
      ]
    },
    {
      "cell_type": "markdown",
      "metadata": {
        "id": "tyuTyFSYcgqH",
        "colab_type": "text"
      },
      "source": [
        "## Feature Engineering\n",
        "- We convert categrorical data to numerical values\n",
        "- We will using StringIndexer"
      ]
    },
    {
      "cell_type": "code",
      "metadata": {
        "id": "RXYbRMdvcgqH",
        "colab_type": "code",
        "colab": {}
      },
      "source": [
        "#import String indexer to convert string values to numeric values\n",
        "from pyspark.ml.feature import StringIndexer,IndexToString"
      ],
      "execution_count": 0,
      "outputs": []
    },
    {
      "cell_type": "code",
      "metadata": {
        "id": "0TN6QQnLcgqL",
        "colab_type": "code",
        "colab": {}
      },
      "source": [
        "#creating string indexer to convert the movie title column values into numerical values\n",
        "stringIndexer = StringIndexer(inputCol=\"title\", outputCol=\"title_new\")"
      ],
      "execution_count": 0,
      "outputs": []
    },
    {
      "cell_type": "code",
      "metadata": {
        "id": "BnqvQDuKcgqO",
        "colab_type": "code",
        "colab": {}
      },
      "source": [
        "#applying stringindexer object on dataframe movie title column\n",
        "model = stringIndexer.fit(df)"
      ],
      "execution_count": 0,
      "outputs": []
    },
    {
      "cell_type": "code",
      "metadata": {
        "id": "WjZ1za1ecgqR",
        "colab_type": "code",
        "colab": {}
      },
      "source": [
        "#creating new dataframe with transformed values\n",
        "indexed = model.transform(df)"
      ],
      "execution_count": 0,
      "outputs": []
    },
    {
      "cell_type": "code",
      "metadata": {
        "id": "pEFZtZD5cgqT",
        "colab_type": "code",
        "outputId": "bd33dcbc-5c8e-4c2d-b865-39cff524c575",
        "colab": {
          "base_uri": "https://localhost:8080/",
          "height": 289
        }
      },
      "source": [
        "#validate the numerical title values\n",
        "indexed.show(10)"
      ],
      "execution_count": 0,
      "outputs": [
        {
          "output_type": "stream",
          "text": [
            "+------+------------+------+---------+\n",
            "|userId|       title|rating|title_new|\n",
            "+------+------------+------+---------+\n",
            "|   196|Kolya (1996)|     3|    287.0|\n",
            "|    63|Kolya (1996)|     3|    287.0|\n",
            "|   226|Kolya (1996)|     5|    287.0|\n",
            "|   154|Kolya (1996)|     3|    287.0|\n",
            "|   306|Kolya (1996)|     5|    287.0|\n",
            "|   296|Kolya (1996)|     4|    287.0|\n",
            "|    34|Kolya (1996)|     5|    287.0|\n",
            "|   271|Kolya (1996)|     4|    287.0|\n",
            "|   201|Kolya (1996)|     4|    287.0|\n",
            "|   209|Kolya (1996)|     4|    287.0|\n",
            "+------+------------+------+---------+\n",
            "only showing top 10 rows\n",
            "\n"
          ],
          "name": "stdout"
        }
      ]
    },
    {
      "cell_type": "code",
      "metadata": {
        "id": "nLDt3aMocgqW",
        "colab_type": "code",
        "outputId": "7a0da65e-6029-4e1a-90bd-993183fef192",
        "colab": {
          "base_uri": "https://localhost:8080/",
          "height": 289
        }
      },
      "source": [
        "#number of times each numerical movie title has been rated \n",
        "indexed.groupBy('title_new').count().orderBy('count',ascending=False).show(10,False)"
      ],
      "execution_count": 0,
      "outputs": [
        {
          "output_type": "stream",
          "text": [
            "+---------+-----+\n",
            "|title_new|count|\n",
            "+---------+-----+\n",
            "|0.0      |583  |\n",
            "|1.0      |509  |\n",
            "|2.0      |508  |\n",
            "|3.0      |507  |\n",
            "|4.0      |485  |\n",
            "|5.0      |481  |\n",
            "|6.0      |478  |\n",
            "|7.0      |452  |\n",
            "|8.0      |431  |\n",
            "|9.0      |429  |\n",
            "+---------+-----+\n",
            "only showing top 10 rows\n",
            "\n"
          ],
          "name": "stdout"
        }
      ]
    },
    {
      "cell_type": "markdown",
      "metadata": {
        "id": "lHGaZhS9cgqY",
        "colab_type": "text"
      },
      "source": [
        "## Splitting Dataset"
      ]
    },
    {
      "cell_type": "code",
      "metadata": {
        "id": "TdAVJgbocgqZ",
        "colab_type": "code",
        "colab": {}
      },
      "source": [
        "#split the data into training and test datatset\n",
        "train,test=indexed.randomSplit([0.75,0.25])"
      ],
      "execution_count": 0,
      "outputs": []
    },
    {
      "cell_type": "code",
      "metadata": {
        "id": "YxztUIebcgqc",
        "colab_type": "code",
        "outputId": "63fbe7d3-4ec4-43ba-d2b9-7916a5dbe44f",
        "colab": {
          "base_uri": "https://localhost:8080/",
          "height": 34
        }
      },
      "source": [
        "#count number of records in train set\n",
        "train.count()"
      ],
      "execution_count": 0,
      "outputs": [
        {
          "output_type": "execute_result",
          "data": {
            "text/plain": [
              "75157"
            ]
          },
          "metadata": {
            "tags": []
          },
          "execution_count": 27
        }
      ]
    },
    {
      "cell_type": "code",
      "metadata": {
        "id": "WUSE8P6ocgqf",
        "colab_type": "code",
        "outputId": "d132eab0-db24-41ed-c6b0-c7a2700ce106",
        "colab": {
          "base_uri": "https://localhost:8080/",
          "height": 34
        }
      },
      "source": [
        "#count number of records in test set\n",
        "test.count()"
      ],
      "execution_count": 0,
      "outputs": [
        {
          "output_type": "execute_result",
          "data": {
            "text/plain": [
              "24843"
            ]
          },
          "metadata": {
            "tags": []
          },
          "execution_count": 28
        }
      ]
    },
    {
      "cell_type": "markdown",
      "metadata": {
        "id": "QaU6GTJYT4IH",
        "colab_type": "text"
      },
      "source": [
        "## Building and Training Model\n",
        "- Using ALS Function\n",
        "- Setting Hyperparameters"
      ]
    },
    {
      "cell_type": "code",
      "metadata": {
        "id": "NcpKvpOpcgql",
        "colab_type": "code",
        "colab": {}
      },
      "source": [
        "#import ALS recommender function from pyspark ml library\n",
        "from pyspark.ml.recommendation import ALS\n"
      ],
      "execution_count": 0,
      "outputs": []
    },
    {
      "cell_type": "code",
      "metadata": {
        "id": "JBcin0Ujcgqn",
        "colab_type": "code",
        "colab": {}
      },
      "source": [
        "#Training the recommender model using trainning datatset\n",
        "# setting nonnegative to True to advoid creating negative rating\n",
        "# coldStartStrategy to drop to prevent NAN\n",
        "rec=ALS(maxIter=10,regParam=0.01,userCol='userId',itemCol='title_new',ratingCol='rating',nonnegative=True,coldStartStrategy=\"drop\")"
      ],
      "execution_count": 0,
      "outputs": []
    },
    {
      "cell_type": "code",
      "metadata": {
        "id": "WJS3Guyqcgqo",
        "colab_type": "code",
        "colab": {}
      },
      "source": [
        "#fit the model on train set\n",
        "rec_model=rec.fit(train)"
      ],
      "execution_count": 0,
      "outputs": []
    },
    {
      "cell_type": "markdown",
      "metadata": {
        "id": "JSa886Njcgqq",
        "colab_type": "text"
      },
      "source": [
        "## Prediction and Evaluation on Test Data"
      ]
    },
    {
      "cell_type": "code",
      "metadata": {
        "id": "dMoV99tkcgqr",
        "colab_type": "code",
        "colab": {}
      },
      "source": [
        "#making predictions on test set \n",
        "prediction=rec_model.transform(test)"
      ],
      "execution_count": 0,
      "outputs": []
    },
    {
      "cell_type": "code",
      "metadata": {
        "id": "DEh9VDCDcgqt",
        "colab_type": "code",
        "outputId": "1858a4e5-9d94-431c-a9ce-06f753f07f61",
        "colab": {
          "base_uri": "https://localhost:8080/",
          "height": 136
        }
      },
      "source": [
        "#columns in predicted ratings dataframe\n",
        "prediction.printSchema()"
      ],
      "execution_count": 0,
      "outputs": [
        {
          "output_type": "stream",
          "text": [
            "root\n",
            " |-- userId: integer (nullable = true)\n",
            " |-- title: string (nullable = true)\n",
            " |-- rating: integer (nullable = true)\n",
            " |-- title_new: double (nullable = false)\n",
            " |-- prediction: float (nullable = false)\n",
            "\n"
          ],
          "name": "stdout"
        }
      ]
    },
    {
      "cell_type": "code",
      "metadata": {
        "id": "x5-L_F5Gcgqv",
        "colab_type": "code",
        "outputId": "d407832e-98fa-464d-a878-fba46e08b846",
        "colab": {
          "base_uri": "https://localhost:8080/",
          "height": 289
        }
      },
      "source": [
        "#predicted vs actual ratings for test set \n",
        "prediction.orderBy(rand()).show(10)"
      ],
      "execution_count": 0,
      "outputs": [
        {
          "output_type": "stream",
          "text": [
            "+------+--------------------+------+---------+----------+\n",
            "|userId|               title|rating|title_new|prediction|\n",
            "+------+--------------------+------+---------+----------+\n",
            "|   214| Pulp Fiction (1994)|     5|     12.0| 3.6739855|\n",
            "|   102|Fire Down Below (...|     2|    653.0| 2.1945543|\n",
            "|    59| Blade Runner (1982)|     5|     52.0|  4.881231|\n",
            "|   230|Twelve Monkeys (1...|     3|     13.0|  3.045692|\n",
            "|   538|Nobody's Fool (1994)|     3|    635.0| 3.7750916|\n",
            "|   584|      Titanic (1997)|     5|     20.0| 5.0793176|\n",
            "|   318|    Pinocchio (1940)|     3|    331.0|  3.693245|\n",
            "|   901|     Maverick (1994)|     5|    247.0| 4.7107105|\n",
            "|   406|Immortal Beloved ...|     3|    525.0| 2.3319488|\n",
            "|   505|Air Force One (1997)|     4|      8.0| 3.9634209|\n",
            "+------+--------------------+------+---------+----------+\n",
            "only showing top 10 rows\n",
            "\n"
          ],
          "name": "stdout"
        }
      ]
    },
    {
      "cell_type": "code",
      "metadata": {
        "id": "rhVhXHjZcgqx",
        "colab_type": "code",
        "colab": {}
      },
      "source": [
        "#importing Regression Evaluator to measure RMSE\n",
        "from pyspark.ml.evaluation import RegressionEvaluator"
      ],
      "execution_count": 0,
      "outputs": []
    },
    {
      "cell_type": "code",
      "metadata": {
        "id": "6dxrQBymcgqy",
        "colab_type": "code",
        "colab": {}
      },
      "source": [
        "#create Regressor evaluator object for measuring accuracy\n",
        "eval=RegressionEvaluator(metricName='rmse',predictionCol='prediction',labelCol='rating')"
      ],
      "execution_count": 0,
      "outputs": []
    },
    {
      "cell_type": "code",
      "metadata": {
        "id": "CIPMCL9rcgq1",
        "colab_type": "code",
        "colab": {}
      },
      "source": [
        "#apply the RE on predictions dataframe to calculate RMSE\n",
        "rmse=eval.evaluate(prediction)"
      ],
      "execution_count": 0,
      "outputs": []
    },
    {
      "cell_type": "code",
      "metadata": {
        "id": "Jc3BlpLAcgq3",
        "colab_type": "code",
        "outputId": "e370a464-c630-4046-98a1-0f538bd32977",
        "colab": {
          "base_uri": "https://localhost:8080/",
          "height": 34
        }
      },
      "source": [
        "#print RMSE error\n",
        "print(\"RMSE:% 3f\" % rmse)"
      ],
      "execution_count": 0,
      "outputs": [
        {
          "output_type": "stream",
          "text": [
            "RMSE: 1.021138\n"
          ],
          "name": "stdout"
        }
      ]
    },
    {
      "cell_type": "markdown",
      "metadata": {
        "id": "dACQB2utcgq5",
        "colab_type": "text"
      },
      "source": [
        "## Recommending Top Movies That Active Users Might Like"
      ]
    },
    {
      "cell_type": "code",
      "metadata": {
        "id": "WiJ9AVAncgq5",
        "colab_type": "code",
        "colab": {}
      },
      "source": [
        "#create dataset of all distinct movies \n",
        "unique_movies=indexed.select('title_new').distinct()"
      ],
      "execution_count": 0,
      "outputs": []
    },
    {
      "cell_type": "code",
      "metadata": {
        "id": "y8mP5Oxicgq7",
        "colab_type": "code",
        "outputId": "2f6fbf94-fd8e-4101-e4dc-f09ef4d8602d",
        "colab": {
          "base_uri": "https://localhost:8080/",
          "height": 34
        }
      },
      "source": [
        "#number of unique movies\n",
        "unique_movies.count()"
      ],
      "execution_count": 0,
      "outputs": [
        {
          "output_type": "execute_result",
          "data": {
            "text/plain": [
              "1664"
            ]
          },
          "metadata": {
            "tags": []
          },
          "execution_count": 41
        }
      ]
    },
    {
      "cell_type": "code",
      "metadata": {
        "id": "CcTQYhRocgq8",
        "colab_type": "code",
        "colab": {}
      },
      "source": [
        "#assigning alias name 'a' to unique movies df\n",
        "a = unique_movies.alias('a')"
      ],
      "execution_count": 0,
      "outputs": []
    },
    {
      "cell_type": "code",
      "metadata": {
        "id": "caT7sIUMcgq_",
        "colab_type": "code",
        "colab": {}
      },
      "source": [
        "user_id=85"
      ],
      "execution_count": 0,
      "outputs": []
    },
    {
      "cell_type": "code",
      "metadata": {
        "id": "dMvISk25cgrB",
        "colab_type": "code",
        "colab": {}
      },
      "source": [
        "#creating another dataframe which contains already watched movie by active user \n",
        "watched_movies=indexed.filter(indexed['userId'] == user_id).select('title_new').distinct()"
      ],
      "execution_count": 0,
      "outputs": []
    },
    {
      "cell_type": "code",
      "metadata": {
        "id": "YvI-9XLEcgrG",
        "colab_type": "code",
        "outputId": "9fd3d173-27c5-424e-dcc1-1592c5f1a070",
        "colab": {
          "base_uri": "https://localhost:8080/",
          "height": 34
        }
      },
      "source": [
        "#number of movies already rated \n",
        "watched_movies.count()"
      ],
      "execution_count": 0,
      "outputs": [
        {
          "output_type": "execute_result",
          "data": {
            "text/plain": [
              "287"
            ]
          },
          "metadata": {
            "tags": []
          },
          "execution_count": 45
        }
      ]
    },
    {
      "cell_type": "code",
      "metadata": {
        "id": "NjSJPHrmcgrI",
        "colab_type": "code",
        "colab": {}
      },
      "source": [
        "#assigning alias name 'b' to watched movies df\n",
        "b=watched_movies.alias('b')"
      ],
      "execution_count": 0,
      "outputs": []
    },
    {
      "cell_type": "code",
      "metadata": {
        "id": "jlJFVewCcgrK",
        "colab_type": "code",
        "colab": {}
      },
      "source": [
        "#joining both tables on left join \n",
        "total_movies = a.join(b, a.title_new == b.title_new,how='left')"
      ],
      "execution_count": 0,
      "outputs": []
    },
    {
      "cell_type": "code",
      "metadata": {
        "id": "LBEeqYIqcgrN",
        "colab_type": "code",
        "outputId": "8383f48d-6887-4cb6-adbd-f0c80390552e",
        "colab": {
          "base_uri": "https://localhost:8080/",
          "height": 289
        }
      },
      "source": [
        "total_movies.show(10,False)"
      ],
      "execution_count": 0,
      "outputs": [
        {
          "output_type": "stream",
          "text": [
            "+---------+---------+\n",
            "|title_new|title_new|\n",
            "+---------+---------+\n",
            "|558.0    |null     |\n",
            "|305.0    |305.0    |\n",
            "|299.0    |null     |\n",
            "|596.0    |null     |\n",
            "|769.0    |null     |\n",
            "|934.0    |null     |\n",
            "|496.0    |496.0    |\n",
            "|1051.0   |null     |\n",
            "|692.0    |null     |\n",
            "|810.0    |null     |\n",
            "+---------+---------+\n",
            "only showing top 10 rows\n",
            "\n"
          ],
          "name": "stdout"
        }
      ]
    },
    {
      "cell_type": "code",
      "metadata": {
        "id": "8IPmnIwhcgrP",
        "colab_type": "code",
        "colab": {}
      },
      "source": [
        "#selecting movies which active user is yet to rate or watch\n",
        "remaining_movies=total_movies.where(col(\"b.title_new\").isNull()).select(a.title_new).distinct()"
      ],
      "execution_count": 0,
      "outputs": []
    },
    {
      "cell_type": "code",
      "metadata": {
        "id": "Wt1mRSqDcgrR",
        "colab_type": "code",
        "outputId": "d4cc810d-f4c6-4bd0-9a60-84a6434108a4",
        "colab": {
          "base_uri": "https://localhost:8080/",
          "height": 34
        }
      },
      "source": [
        "#number of movies user is yet to rate \n",
        "remaining_movies.count()"
      ],
      "execution_count": 0,
      "outputs": [
        {
          "output_type": "execute_result",
          "data": {
            "text/plain": [
              "1377"
            ]
          },
          "metadata": {
            "tags": []
          },
          "execution_count": 50
        }
      ]
    },
    {
      "cell_type": "code",
      "metadata": {
        "id": "GVbB0R2IcgrT",
        "colab_type": "code",
        "colab": {}
      },
      "source": [
        "#adding new column of user_Id of active useer to remaining movies df \n",
        "remaining_movies=remaining_movies.withColumn(\"userId\",lit(int(user_id)))"
      ],
      "execution_count": 0,
      "outputs": []
    },
    {
      "cell_type": "code",
      "metadata": {
        "id": "KlPUcqMxcgrU",
        "colab_type": "code",
        "outputId": "3376b144-b85e-40d1-ed1f-8d4460b86611",
        "colab": {
          "base_uri": "https://localhost:8080/",
          "height": 289
        }
      },
      "source": [
        "remaining_movies.show(10,False)"
      ],
      "execution_count": 0,
      "outputs": [
        {
          "output_type": "stream",
          "text": [
            "+---------+------+\n",
            "|title_new|userId|\n",
            "+---------+------+\n",
            "|558.0    |85    |\n",
            "|299.0    |85    |\n",
            "|596.0    |85    |\n",
            "|769.0    |85    |\n",
            "|934.0    |85    |\n",
            "|1051.0   |85    |\n",
            "|692.0    |85    |\n",
            "|810.0    |85    |\n",
            "|720.0    |85    |\n",
            "|782.0    |85    |\n",
            "+---------+------+\n",
            "only showing top 10 rows\n",
            "\n"
          ],
          "name": "stdout"
        }
      ]
    },
    {
      "cell_type": "code",
      "metadata": {
        "id": "-mz9M1-gcgrW",
        "colab_type": "code",
        "colab": {}
      },
      "source": [
        "#making recommendations using ALS recommender model and selecting only top 'n' movies\n",
        "recommendations=rec_model.transform(remaining_movies).orderBy('prediction',ascending=False)"
      ],
      "execution_count": 0,
      "outputs": []
    },
    {
      "cell_type": "code",
      "metadata": {
        "id": "zK_vCjbDcgrX",
        "colab_type": "code",
        "outputId": "6f77e3e5-5b37-45e1-ba7d-4372e59a4303",
        "colab": {
          "base_uri": "https://localhost:8080/",
          "height": 204
        }
      },
      "source": [
        "recommendations.show(5,False)"
      ],
      "execution_count": 0,
      "outputs": [
        {
          "output_type": "stream",
          "text": [
            "+---------+------+----------+\n",
            "|title_new|userId|prediction|\n",
            "+---------+------+----------+\n",
            "|1286.0   |85    |5.6669097 |\n",
            "|1369.0   |85    |5.0321894 |\n",
            "|1271.0   |85    |4.667848  |\n",
            "|914.0    |85    |4.645869  |\n",
            "|263.0    |85    |4.6170864 |\n",
            "+---------+------+----------+\n",
            "only showing top 5 rows\n",
            "\n"
          ],
          "name": "stdout"
        }
      ]
    },
    {
      "cell_type": "code",
      "metadata": {
        "id": "yB5EsjJccgrZ",
        "colab_type": "code",
        "colab": {}
      },
      "source": [
        "#converting title_new values back to movie titles\n",
        "movie_title = IndexToString(inputCol=\"title_new\", outputCol=\"title\",labels=model.labels)\n",
        "\n",
        "final_recommendations=movie_title.transform(recommendations)"
      ],
      "execution_count": 0,
      "outputs": []
    },
    {
      "cell_type": "code",
      "metadata": {
        "id": "pgWaj-nvcgrc",
        "colab_type": "code",
        "outputId": "322d3c13-b3aa-4069-9474-050156cd348d",
        "colab": {
          "base_uri": "https://localhost:8080/",
          "height": 289
        }
      },
      "source": [
        "final_recommendations.show(10,False)"
      ],
      "execution_count": 0,
      "outputs": [
        {
          "output_type": "stream",
          "text": [
            "+---------+------+----------+----------------------------+\n",
            "|title_new|userId|prediction|title                       |\n",
            "+---------+------+----------+----------------------------+\n",
            "|1286.0   |85    |5.6669097 |Mina Tannenbaum (1994)      |\n",
            "|1369.0   |85    |5.0321894 |Harlem (1993)               |\n",
            "|1271.0   |85    |4.667848  |Whole Wide World, The (1996)|\n",
            "|914.0    |85    |4.645869  |Top Hat (1935)              |\n",
            "|263.0    |85    |4.6170864 |12 Angry Men (1957)         |\n",
            "|1195.0   |85    |4.559059  |Pather Panchali (1955)      |\n",
            "|901.0    |85    |4.5414906 |Three Caballeros, The (1945)|\n",
            "|1470.0   |85    |4.4813557 |Some Mother's Son (1996)    |\n",
            "|1598.0   |85    |4.4738894 |Spanish Prisoner, The (1997)|\n",
            "|1501.0   |85    |4.4738894 |Butcher Boy, The (1998)     |\n",
            "+---------+------+----------+----------------------------+\n",
            "only showing top 10 rows\n",
            "\n"
          ],
          "name": "stdout"
        }
      ]
    },
    {
      "cell_type": "code",
      "metadata": {
        "id": "NX0dHsJrcgrh",
        "colab_type": "code",
        "colab": {}
      },
      "source": [
        "#create function to recommend top 'n' movies to any particular user\n",
        "def top_movies(user_id,n):\n",
        "    \"\"\"\n",
        "    This function returns the top 'n' movies that user has not seen yet but might like \n",
        "    \n",
        "    \"\"\"\n",
        "    #assigning alias name 'a' to unique movies df\n",
        "    a = unique_movies.alias('a')\n",
        "    \n",
        "    #creating another dataframe which contains already watched movie by active user \n",
        "    watched_movies=indexed.filter(indexed['userId'] == user_id).select('title_new')\n",
        "    \n",
        "    #assigning alias name 'b' to watched movies df\n",
        "    b=watched_movies.alias('b')\n",
        "    \n",
        "    #joining both tables on left join \n",
        "    total_movies = a.join(b, a.title_new == b.title_new,how='left')\n",
        "    \n",
        "    #selecting movies which active user is yet to rate or watch\n",
        "    remaining_movies=total_movies.where(col(\"b.title_new\").isNull()).select(a.title_new).distinct()\n",
        "    \n",
        "    \n",
        "    #adding new column of user_Id of active useer to remaining movies df \n",
        "    remaining_movies=remaining_movies.withColumn(\"userId\",lit(int(user_id)))\n",
        "    \n",
        "    \n",
        "    #making recommendations using ALS recommender model and selecting only top 'n' movies\n",
        "    recommendations=rec_model.transform(remaining_movies).orderBy('prediction',ascending=False).limit(n)\n",
        "    \n",
        "    \n",
        "    #adding columns of movie titles in recommendations\n",
        "    movie_title = IndexToString(inputCol=\"title_new\", outputCol=\"title\",labels=model.labels)\n",
        "    final_recommendations=movie_title.transform(recommendations)\n",
        "    \n",
        "    #return the recommendations to active user\n",
        "    return final_recommendations.show(n,False)"
      ],
      "execution_count": 0,
      "outputs": []
    },
    {
      "cell_type": "code",
      "metadata": {
        "id": "WDalXA08cgrj",
        "colab_type": "code",
        "outputId": "4dc88b10-45ad-4406-8688-8716cf493e0f",
        "colab": {
          "base_uri": "https://localhost:8080/",
          "height": 272
        }
      },
      "source": [
        "top_movies(85,10)"
      ],
      "execution_count": 0,
      "outputs": [
        {
          "output_type": "stream",
          "text": [
            "+---------+------+----------+----------------------------+\n",
            "|title_new|userId|prediction|title                       |\n",
            "+---------+------+----------+----------------------------+\n",
            "|1286.0   |85    |5.6669097 |Mina Tannenbaum (1994)      |\n",
            "|1369.0   |85    |5.0321894 |Harlem (1993)               |\n",
            "|1271.0   |85    |4.667848  |Whole Wide World, The (1996)|\n",
            "|914.0    |85    |4.645869  |Top Hat (1935)              |\n",
            "|263.0    |85    |4.6170864 |12 Angry Men (1957)         |\n",
            "|1195.0   |85    |4.559059  |Pather Panchali (1955)      |\n",
            "|901.0    |85    |4.5414906 |Three Caballeros, The (1945)|\n",
            "|1470.0   |85    |4.4813557 |Some Mother's Son (1996)    |\n",
            "|1598.0   |85    |4.4738894 |Spanish Prisoner, The (1997)|\n",
            "|1386.0   |85    |4.4738894 |Underneath, The (1995)      |\n",
            "+---------+------+----------+----------------------------+\n",
            "\n"
          ],
          "name": "stdout"
        }
      ]
    }
  ]
}